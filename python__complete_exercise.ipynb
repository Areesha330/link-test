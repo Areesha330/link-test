{
  "cells": [
    {
      "cell_type": "code",
      "execution_count": null,
      "metadata": {
        "colab": {
          "base_uri": "https://localhost:8080/"
        },
        "id": "9RI3YQHnErA4",
        "outputId": "84fac093-b0cc-465b-aad3-37767c9578f8"
      },
      "outputs": [
        {
          "name": "stdout",
          "output_type": "stream",
          "text": [
            "wel come\n"
          ]
        }
      ],
      "source": [
        "print(\"wel come\")"
      ]
    },
    {
      "cell_type": "code",
      "execution_count": null,
      "metadata": {
        "colab": {
          "base_uri": "https://localhost:8080/"
        },
        "id": "7_d6XhGuIRe2",
        "outputId": "c6e7d535-937e-4c61-9954-c50b92c2bcd5"
      },
      "outputs": [
        {
          "name": "stdout",
          "output_type": "stream",
          "text": [
            "5\n",
            "helo,world!\n"
          ]
        }
      ],
      "source": [
        "#variable\n",
        "x=5\n",
        "y=\"helo,world!\"\n",
        "print(x)\n",
        "print(y)"
      ]
    },
    {
      "cell_type": "code",
      "execution_count": null,
      "metadata": {
        "colab": {
          "base_uri": "https://localhost:8080/"
        },
        "id": "SxEB3SYPI_U-",
        "outputId": "07ed8226-afe1-4967-c668-553ed7817092"
      },
      "outputs": [
        {
          "name": "stdout",
          "output_type": "stream",
          "text": [
            "Helo, World!\n"
          ]
        }
      ],
      "source": [
        "#comment\n",
        "#This is a comment.\n",
        "print(\"Helo, World!\")"
      ]
    },
    {
      "cell_type": "code",
      "execution_count": null,
      "metadata": {
        "colab": {
          "base_uri": "https://localhost:8080/"
        },
        "id": "oeBRrsv9Jn4W",
        "outputId": "6f7fa16a-de7b-4534-abbf-56c14bb920b1"
      },
      "outputs": [
        {
          "name": "stdout",
          "output_type": "stream",
          "text": [
            "Hello, World!\n"
          ]
        }
      ],
      "source": [
        "#Multiline comments\n",
        "#This is a comment\n",
        "#Written in\n",
        "#more than just one line\n",
        "print(\"Hello, World!\")"
      ]
    },
    {
      "cell_type": "code",
      "execution_count": null,
      "metadata": {
        "colab": {
          "base_uri": "https://localhost:8080/"
        },
        "id": "BHu_AdqgvCb-",
        "outputId": "e6bc89dd-91ed-4d2d-8c03-3d5d31a95b45"
      },
      "outputs": [
        {
          "name": "stdout",
          "output_type": "stream",
          "text": [
            "the result of var1+var2 is: 42\n"
          ]
        }
      ],
      "source": [
        "#variables\n",
        "var1=12\n",
        "var2=30\n",
        "sum=var1+var2\n",
        "print(\"the result of var1+var2 is:\",sum)"
      ]
    },
    {
      "cell_type": "code",
      "execution_count": null,
      "metadata": {
        "colab": {
          "base_uri": "https://localhost:8080/"
        },
        "id": "yNNzSNKPszdS",
        "outputId": "27e306cb-9f96-43ce-eeb1-65c4ffeb2b94"
      },
      "outputs": [
        {
          "name": "stdout",
          "output_type": "stream",
          "text": [
            "<class 'int'>\n",
            "<class 'str'>\n"
          ]
        }
      ],
      "source": [
        "#variable\n",
        "#assign values to variable directly\n",
        "var1 = 5\n",
        "var2 = \"John\"\n",
        "print(type(var1))\n",
        "print(type(var2))\n"
      ]
    },
    {
      "cell_type": "code",
      "execution_count": null,
      "metadata": {
        "colab": {
          "base_uri": "https://localhost:8080/"
        },
        "id": "y1Hzkmckvbah",
        "outputId": "c37ca6cb-c39a-4b47-f0bb-017134bcfe04"
      },
      "outputs": [
        {
          "name": "stdout",
          "output_type": "stream",
          "text": [
            "45\n",
            "<class 'int'>\n"
          ]
        }
      ],
      "source": [
        "#data types\n",
        "#1.numeric\n",
        "#a.integer:45,-35\n",
        "#b.float:2.20,-43.0\n",
        "#c.complex:4j\n",
        "\n",
        "\n",
        "#integer\n",
        "var_int=45\n",
        "print(var_int)\n",
        "print(type(var_int))\n"
      ]
    },
    {
      "cell_type": "code",
      "execution_count": null,
      "metadata": {
        "colab": {
          "base_uri": "https://localhost:8080/"
        },
        "id": "7b5yhfNtxAal",
        "outputId": "06c25507-a650-4a4e-bcfe-2891a7fb4b16"
      },
      "outputs": [
        {
          "name": "stdout",
          "output_type": "stream",
          "text": [
            "2.2\n",
            "<class 'float'>\n"
          ]
        }
      ],
      "source": [
        "#float\n",
        "var_float=2.20\n",
        "print(var_float)\n",
        "print(type(var_float))\n"
      ]
    },
    {
      "cell_type": "code",
      "execution_count": null,
      "metadata": {
        "colab": {
          "base_uri": "https://localhost:8080/"
        },
        "id": "rv5OFyIKyWBc",
        "outputId": "b184011d-dac6-4158-bee7-01375f822c78"
      },
      "outputs": [
        {
          "name": "stdout",
          "output_type": "stream",
          "text": [
            "(34+4j)\n",
            "<class 'complex'>\n"
          ]
        }
      ],
      "source": [
        "#complex\n",
        "var_int=4j\n",
        "print(var_int)\n",
        "print(type(var_int))"
      ]
    },
    {
      "cell_type": "code",
      "execution_count": null,
      "metadata": {
        "colab": {
          "base_uri": "https://localhost:8080/"
        },
        "id": "GoxgLw2_zR0b",
        "outputId": "bf851ebb-3b7a-487c-b0fe-566235fe033d"
      },
      "outputs": [
        {
          "name": "stdout",
          "output_type": "stream",
          "text": [
            "(34+4j)\n",
            "<class 'complex'>\n"
          ]
        }
      ],
      "source": [
        "#complex\n",
        "var_int=34+4j\n",
        "print(var_int)\n",
        "print(type(var_int))"
      ]
    },
    {
      "cell_type": "code",
      "execution_count": null,
      "metadata": {
        "colab": {
          "base_uri": "https://localhost:8080/"
        },
        "id": "6OKq4HvcypkJ",
        "outputId": "8d0363e4-c205-43ca-ec89-201491795ec6"
      },
      "outputs": [
        {
          "name": "stdout",
          "output_type": "stream",
          "text": [
            "<class 'int'>\n",
            "<class 'float'>\n",
            "<class 'complex'>\n"
          ]
        }
      ],
      "source": [
        "#Data types\n",
        "#numeric types\n",
        "x = 1\n",
        "y = 2.8\n",
        "z = 1j\n",
        "print(type(x))\n",
        "print(type(y))\n",
        "print(type(z))"
      ]
    },
    {
      "cell_type": "code",
      "execution_count": null,
      "metadata": {
        "colab": {
          "base_uri": "https://localhost:8080/"
        },
        "id": "svvGQ6POz_wq",
        "outputId": "98134667-c8d2-4c7a-f631-2dba24158c75"
      },
      "outputs": [
        {
          "name": "stdout",
          "output_type": "stream",
          "text": [
            "Helo World\n"
          ]
        }
      ],
      "source": [
        "#string\n",
        "# string in python by using double quotations and single quotations:\n",
        "#'hello' is the same as \"hello\".\n",
        "\n",
        "a=\"Helo World\"\n",
        "print(a)"
      ]
    },
    {
      "cell_type": "code",
      "execution_count": null,
      "metadata": {
        "colab": {
          "base_uri": "https://localhost:8080/"
        },
        "id": "zApItqFi4r6g",
        "outputId": "19c48968-9324-4bbe-8212-b8a93b0efead"
      },
      "outputs": [
        {
          "name": "stdout",
          "output_type": "stream",
          "text": [
            "alex\n",
            "<class 'str'>\n"
          ]
        }
      ],
      "source": [
        "#string\n",
        "#assign a string to a variable by using double quotes:\n",
        "var_str=\"alex\"\n",
        "print(var_str)\n",
        "print(type(var_str))"
      ]
    },
    {
      "cell_type": "code",
      "execution_count": null,
      "metadata": {
        "id": "W4pQn1sj5FXm"
      },
      "outputs": [],
      "source": [
        "#string\n",
        "#assign a string to a variable by using double quotes:\n",
        "var_str=\"alex\"\n",
        "print(var_str)\n",
        "print(type(var_str))"
      ]
    },
    {
      "cell_type": "code",
      "execution_count": null,
      "metadata": {
        "colab": {
          "base_uri": "https://localhost:8080/"
        },
        "id": "IQCOTvQM81jM",
        "outputId": "557040aa-7aae-428d-8fcf-d6c9671b3b19"
      },
      "outputs": [
        {
          "name": "stdout",
          "output_type": "stream",
          "text": [
            "llo\n"
          ]
        }
      ],
      "source": [
        "#slicing string\n",
        "b = \"Hello, World!\"\n",
        "print(b[2:5])"
      ]
    },
    {
      "cell_type": "code",
      "execution_count": null,
      "metadata": {
        "colab": {
          "base_uri": "https://localhost:8080/"
        },
        "id": "xaMmVE1q9INz",
        "outputId": "880e2e57-4038-40e3-bca6-158b7a7bebef"
      },
      "outputs": [
        {
          "name": "stdout",
          "output_type": "stream",
          "text": [
            "orl\n"
          ]
        }
      ],
      "source": [
        "#slicing string from of negative indexes:\n",
        "b = \"Hello, World!\"\n",
        "print(b[-5:-2])"
      ]
    },
    {
      "cell_type": "code",
      "execution_count": null,
      "metadata": {
        "colab": {
          "base_uri": "https://localhost:8080/"
        },
        "id": "1wu9poRn9uYj",
        "outputId": "7e9eb577-eb5d-4b88-8af7-36ca61de470b"
      },
      "outputs": [
        {
          "name": "stdout",
          "output_type": "stream",
          "text": [
            "b is greater than a\n"
          ]
        }
      ],
      "source": [
        "#Booleans\n",
        "#Booleans represent one of two values: True or False.\n",
        "\n",
        "a=200\n",
        "b=33\n",
        "if a>b:\n",
        "   print(\"b is greater than a\")\n",
        "else:\n",
        "   print(\"b is not greater than a\")"
      ]
    },
    {
      "cell_type": "code",
      "execution_count": null,
      "metadata": {
        "colab": {
          "base_uri": "https://localhost:8080/"
        },
        "id": "BpV9WhQv_GsD",
        "outputId": "0fa8aef7-d83f-4371-e9e2-546486a74465"
      },
      "outputs": [
        {
          "name": "stdout",
          "output_type": "stream",
          "text": [
            "8\n"
          ]
        }
      ],
      "source": [
        "#Operators\n",
        "#types of operaters\n",
        "#1.Arithmetic operators\n",
        "#2.Assignment operators\n",
        "#3.Comparison operators\n",
        "#4.Logical operators\n",
        "#5.Identity operators\n",
        "#6.Membership operators\n",
        "#7.Bitwise operators\n",
        "\n",
        "#arithmetic operater\n",
        "#addition(+)\n",
        "x = 5\n",
        "y = 3\n",
        "print(x + y)\n",
        "\n"
      ]
    },
    {
      "cell_type": "code",
      "execution_count": null,
      "metadata": {
        "colab": {
          "base_uri": "https://localhost:8080/"
        },
        "id": "6H4vQ1wEAO5j",
        "outputId": "b432a07e-a582-4df0-f69f-20a3605cd72e"
      },
      "outputs": [
        {
          "name": "stdout",
          "output_type": "stream",
          "text": [
            "5\n"
          ]
        }
      ],
      "source": [
        "#subtraction\n",
        "x=8\n",
        "y=3\n",
        "print(x-y)"
      ]
    },
    {
      "cell_type": "code",
      "execution_count": null,
      "metadata": {
        "colab": {
          "base_uri": "https://localhost:8080/"
        },
        "id": "eNoA_EEIAegs",
        "outputId": "8ebfc207-83a3-461d-bb32-b9a41ce0fdd1"
      },
      "outputs": [
        {
          "name": "stdout",
          "output_type": "stream",
          "text": [
            "24\n"
          ]
        }
      ],
      "source": [
        "#Multiplication(*)\n",
        "x=8\n",
        "y=3\n",
        "print(x*y)"
      ]
    },
    {
      "cell_type": "code",
      "execution_count": null,
      "metadata": {
        "colab": {
          "base_uri": "https://localhost:8080/"
        },
        "id": "GjzzXSmHAsoP",
        "outputId": "d94bb558-55d6-4dd3-f8ad-c480f86115e5"
      },
      "outputs": [
        {
          "name": "stdout",
          "output_type": "stream",
          "text": [
            "2.6666666666666665\n"
          ]
        }
      ],
      "source": [
        "#\tDivision(/)\n",
        "x=8\n",
        "y=3\n",
        "print(x/y)"
      ]
    },
    {
      "cell_type": "code",
      "execution_count": null,
      "metadata": {
        "colab": {
          "base_uri": "https://localhost:8080/"
        },
        "id": "O-tlM19wA4Hm",
        "outputId": "891f6eae-047c-4d41-ea1f-8f8b5502afba"
      },
      "outputs": [
        {
          "name": "stdout",
          "output_type": "stream",
          "text": [
            "2\n"
          ]
        }
      ],
      "source": [
        "#\tModulus(%)\n",
        "x=8\n",
        "y=3\n",
        "print(x%y)"
      ]
    },
    {
      "cell_type": "code",
      "execution_count": null,
      "metadata": {
        "colab": {
          "base_uri": "https://localhost:8080/"
        },
        "id": "Kh5re8P9BKI7",
        "outputId": "53b368c2-e8fe-4991-d076-f54a52cce57c"
      },
      "outputs": [
        {
          "name": "stdout",
          "output_type": "stream",
          "text": [
            "5\n"
          ]
        }
      ],
      "source": [
        " #Assignment Operators\n",
        " #Assignment operators are used to assign values to variables:\n",
        "\n",
        "\n",
        "x=5\n",
        "print(x)\n"
      ]
    },
    {
      "cell_type": "code",
      "execution_count": null,
      "metadata": {
        "colab": {
          "base_uri": "https://localhost:8080/"
        },
        "id": "t3oMZ5EV942V",
        "outputId": "f1073704-4439-4059-f975-719521ecefa1"
      },
      "outputs": [
        {
          "name": "stdout",
          "output_type": "stream",
          "text": [
            "8\n"
          ]
        }
      ],
      "source": [
        "x=5\n",
        "x+=3\n",
        "print(x)\n"
      ]
    },
    {
      "cell_type": "code",
      "execution_count": null,
      "metadata": {
        "colab": {
          "base_uri": "https://localhost:8080/"
        },
        "id": "RiBt3EqV-0-4",
        "outputId": "a87c2c2a-45f7-41a6-eb3b-3f879c774dc5"
      },
      "outputs": [
        {
          "name": "stdout",
          "output_type": "stream",
          "text": [
            "15\n"
          ]
        }
      ],
      "source": [
        "x=5\n",
        "x*=3\n",
        "print(x)\n"
      ]
    },
    {
      "cell_type": "code",
      "execution_count": null,
      "metadata": {
        "colab": {
          "base_uri": "https://localhost:8080/"
        },
        "id": "EQwYXwSs_B-D",
        "outputId": "0c9be636-8b34-488c-8268-554360f657ce"
      },
      "outputs": [
        {
          "name": "stdout",
          "output_type": "stream",
          "text": [
            "2\n"
          ]
        }
      ],
      "source": [
        "x=5\n",
        "x-=3\n",
        "print(x)\n"
      ]
    },
    {
      "cell_type": "code",
      "execution_count": null,
      "metadata": {
        "colab": {
          "base_uri": "https://localhost:8080/"
        },
        "id": "yNpBieYS_FxK",
        "outputId": "fe0eabb1-c554-4436-ebf8-3a1d55a2b731"
      },
      "outputs": [
        {
          "name": "stdout",
          "output_type": "stream",
          "text": [
            "1.6666666666666667\n"
          ]
        }
      ],
      "source": [
        "x=5\n",
        "x/=3\n",
        "print(x)\n"
      ]
    },
    {
      "cell_type": "code",
      "execution_count": null,
      "metadata": {
        "colab": {
          "base_uri": "https://localhost:8080/"
        },
        "id": "dvc1w5fg_O69",
        "outputId": "8de056cd-4786-45e3-b159-63f1d24a7a39"
      },
      "outputs": [
        {
          "name": "stdout",
          "output_type": "stream",
          "text": [
            "2\n"
          ]
        }
      ],
      "source": [
        "x=5\n",
        "x%=3\n",
        "print(x)\n"
      ]
    },
    {
      "cell_type": "code",
      "execution_count": null,
      "metadata": {
        "colab": {
          "background_save": true,
          "base_uri": "https://localhost:8080/"
        },
        "id": "2t2pgnqK_tJJ",
        "outputId": "e4270b01-0a76-4ddd-ce15-ec41cfdde57f"
      },
      "outputs": [
        {
          "name": "stdout",
          "output_type": "stream",
          "text": [
            "1\n"
          ]
        }
      ],
      "source": [
        "x=5\n",
        "x//=3\n",
        "print(x)\n"
      ]
    },
    {
      "cell_type": "code",
      "execution_count": null,
      "metadata": {
        "colab": {
          "base_uri": "https://localhost:8080/"
        },
        "id": "8qXC9b8Z_uO6",
        "outputId": "d324507b-0edf-40b2-ccb0-43c9ce8afb16"
      },
      "outputs": [
        {
          "name": "stdout",
          "output_type": "stream",
          "text": [
            "1953125\n"
          ]
        }
      ],
      "source": [
        "#x=5\n",
        "x**=3\n",
        "print(x)\n"
      ]
    },
    {
      "cell_type": "code",
      "source": [
        "#index\n",
        "my_list = [10, 20, 30, 40, 50]\n",
        "# Access first element\n",
        "print(my_list[0])  # Output: 10\n",
        "# Access last element (using negative indexing)\n",
        "print(my_list[-1])  # Output: 50\n"
      ],
      "metadata": {
        "id": "UMvsQ5x64S_F"
      },
      "execution_count": null,
      "outputs": []
    },
    {
      "cell_type": "code",
      "source": [
        "# indexing\n",
        "my_list = [10, 20, 30, 40, 50]\n",
        "print(my_list[0])"
      ],
      "metadata": {
        "colab": {
          "base_uri": "https://localhost:8080/"
        },
        "id": "dimkGuD45LZN",
        "outputId": "35ce26fd-8588-4679-f2e7-0a6a40f70d64"
      },
      "execution_count": 63,
      "outputs": [
        {
          "output_type": "stream",
          "name": "stdout",
          "text": [
            "10\n"
          ]
        }
      ]
    },
    {
      "cell_type": "code",
      "source": [
        "my_list = [10, 20, 30, 40, 50]\n",
        "print(my_list[1])"
      ],
      "metadata": {
        "colab": {
          "base_uri": "https://localhost:8080/"
        },
        "id": "2yxwifZn5iAL",
        "outputId": "4d8a2651-34d0-4768-edef-139131e619da"
      },
      "execution_count": 64,
      "outputs": [
        {
          "output_type": "stream",
          "name": "stdout",
          "text": [
            "20\n"
          ]
        }
      ]
    },
    {
      "cell_type": "code",
      "source": [
        "my_list = [10, 20, 30, 40, 50]\n",
        "print(my_list[2])\n"
      ],
      "metadata": {
        "colab": {
          "base_uri": "https://localhost:8080/"
        },
        "id": "dYPnY0NW51Y1",
        "outputId": "a174371e-f54c-45aa-e192-17aae53107b1"
      },
      "execution_count": 65,
      "outputs": [
        {
          "output_type": "stream",
          "name": "stdout",
          "text": [
            "30\n"
          ]
        }
      ]
    },
    {
      "cell_type": "code",
      "source": [
        "my_list = [10, 20, 30, 40, 50]\n",
        "print(my_list[3])"
      ],
      "metadata": {
        "colab": {
          "base_uri": "https://localhost:8080/"
        },
        "id": "rDspAkV_59lw",
        "outputId": "86f20bca-af38-409d-f7dd-b9d9b7bc9822"
      },
      "execution_count": 66,
      "outputs": [
        {
          "output_type": "stream",
          "name": "stdout",
          "text": [
            "40\n"
          ]
        }
      ]
    },
    {
      "cell_type": "code",
      "source": [
        "my_list = [10, 20, 30, 40, 50]\n",
        "print(my_list[4])"
      ],
      "metadata": {
        "colab": {
          "base_uri": "https://localhost:8080/"
        },
        "id": "V2Gk6Ksh6CBB",
        "outputId": "036559dd-0d5d-4434-94ed-36f3033f4cdd"
      },
      "execution_count": 67,
      "outputs": [
        {
          "output_type": "stream",
          "name": "stdout",
          "text": [
            "50\n"
          ]
        }
      ]
    },
    {
      "cell_type": "code",
      "source": [
        "my_list = [10, 20, 30, 40, 50]\n",
        "print(my_list[-1])"
      ],
      "metadata": {
        "colab": {
          "base_uri": "https://localhost:8080/"
        },
        "id": "xn86gBVo6HKh",
        "outputId": "8fd33c0c-7a77-4c9f-e6e0-76e9faf5b1dc"
      },
      "execution_count": 68,
      "outputs": [
        {
          "output_type": "stream",
          "name": "stdout",
          "text": [
            "50\n"
          ]
        }
      ]
    },
    {
      "cell_type": "code",
      "source": [
        "my_list = [10, 20, 30, 40, 50]\n",
        "print(my_list[-4])"
      ],
      "metadata": {
        "colab": {
          "base_uri": "https://localhost:8080/"
        },
        "id": "-aiXHrnl6MVb",
        "outputId": "5a29c11d-db4a-497d-c443-61da8ed6d7a7"
      },
      "execution_count": 69,
      "outputs": [
        {
          "output_type": "stream",
          "name": "stdout",
          "text": [
            "20\n"
          ]
        }
      ]
    },
    {
      "cell_type": "code",
      "source": [
        "my_list = [10, 20, 30, 40, 50]\n",
        "print(my_list[1:2])"
      ],
      "metadata": {
        "colab": {
          "base_uri": "https://localhost:8080/"
        },
        "id": "ig5EkPFf6Spi",
        "outputId": "051e7aad-d6f9-4706-d9df-7667886e1d12"
      },
      "execution_count": 70,
      "outputs": [
        {
          "output_type": "stream",
          "name": "stdout",
          "text": [
            "[20]\n"
          ]
        }
      ]
    },
    {
      "cell_type": "code",
      "source": [
        "my_list = [10, 20, 30, 40, 50]\n",
        "print(my_list[:2])"
      ],
      "metadata": {
        "colab": {
          "base_uri": "https://localhost:8080/"
        },
        "id": "a-czk4D76cca",
        "outputId": "42994530-73c3-4db0-fead-9ff1742e8349"
      },
      "execution_count": 71,
      "outputs": [
        {
          "output_type": "stream",
          "name": "stdout",
          "text": [
            "[10, 20]\n"
          ]
        }
      ]
    },
    {
      "cell_type": "code",
      "source": [
        "my_list = [10, 20, 30, 40, 50]\n",
        "print(my_list[2:])"
      ],
      "metadata": {
        "colab": {
          "base_uri": "https://localhost:8080/"
        },
        "id": "_LlPqa6w6i8L",
        "outputId": "1aa4fb56-32ca-4f10-d68f-87ccd42a96b1"
      },
      "execution_count": 72,
      "outputs": [
        {
          "output_type": "stream",
          "name": "stdout",
          "text": [
            "[30, 40, 50]\n"
          ]
        }
      ]
    },
    {
      "cell_type": "code",
      "source": [
        "#list:\n",
        "# ages=[23,34,40,45,34]\n",
        "\n",
        "ages=[23,34,40,45,34]\n",
        "print(ages)\n",
        "print(type(ages))"
      ],
      "metadata": {
        "colab": {
          "base_uri": "https://localhost:8080/"
        },
        "id": "yUo5lH0UGwTY",
        "outputId": "71656c11-2877-4e40-d77e-0f768602111b"
      },
      "execution_count": null,
      "outputs": [
        {
          "output_type": "stream",
          "name": "stdout",
          "text": [
            "[23, 34, 40, 45, 34]\n",
            "<class 'list'>\n"
          ]
        }
      ]
    },
    {
      "cell_type": "code",
      "source": [
        "#list\n",
        "mylist=[\"apple\",\"banana\",\"cherry\"]\n",
        "print(mylist)"
      ],
      "metadata": {
        "colab": {
          "base_uri": "https://localhost:8080/"
        },
        "id": "RVtTNo0BHM4U",
        "outputId": "df78fc0c-dde9-4f75-ba96-bd84124be8d5"
      },
      "execution_count": null,
      "outputs": [
        {
          "output_type": "stream",
          "name": "stdout",
          "text": [
            "['apple', 'banana', 'cherry']\n"
          ]
        }
      ]
    },
    {
      "cell_type": "code",
      "source": [
        "#list length\n",
        "mylist=[\"apple\",\"banana\",\"cherry\"]\n",
        "print(len(mylist))"
      ],
      "metadata": {
        "colab": {
          "base_uri": "https://localhost:8080/"
        },
        "id": "VnZdLY90HhkS",
        "outputId": "41b437ec-3041-4373-8ed0-2e235213f6bf"
      },
      "execution_count": null,
      "outputs": [
        {
          "output_type": "stream",
          "name": "stdout",
          "text": [
            "3\n"
          ]
        }
      ]
    },
    {
      "cell_type": "code",
      "source": [
        "#tuple:\n",
        "# items=(23,45,67,45,34)\n",
        "\n",
        "tuple=(23,45,67,45,34)\n",
        "print(tuple)\n",
        "print(type(range))"
      ],
      "metadata": {
        "id": "19d6uF-oHyUC",
        "colab": {
          "base_uri": "https://localhost:8080/"
        },
        "outputId": "1d6291b3-9918-469a-e250-787e65ae6e74"
      },
      "execution_count": null,
      "outputs": [
        {
          "output_type": "stream",
          "name": "stdout",
          "text": [
            "(23, 45, 67, 45, 34)\n",
            "<class 'range'>\n"
          ]
        }
      ]
    },
    {
      "cell_type": "code",
      "source": [
        "items=(23,45,67,45,34)\n",
        "print(items)\n",
        "print(type(items))"
      ],
      "metadata": {
        "colab": {
          "base_uri": "https://localhost:8080/"
        },
        "id": "-EL1LbqzJwIh",
        "outputId": "479378b6-71ce-4bd1-f462-15983fcbd565"
      },
      "execution_count": null,
      "outputs": [
        {
          "output_type": "stream",
          "name": "stdout",
          "text": [
            "(23, 45, 67, 45, 34)\n",
            "<class 'tuple'>\n"
          ]
        }
      ]
    },
    {
      "cell_type": "code",
      "source": [
        "thistuple=(\"apple\", \"banana\", \"cherry\")\n",
        "print(thistuple)"
      ],
      "metadata": {
        "colab": {
          "base_uri": "https://localhost:8080/"
        },
        "id": "00oXsDBIKABh",
        "outputId": "1c42ed3e-58d3-4503-aa04-3798c3378674"
      },
      "execution_count": null,
      "outputs": [
        {
          "output_type": "stream",
          "name": "stdout",
          "text": [
            "('apple', 'banana', 'cherry')\n"
          ]
        }
      ]
    },
    {
      "cell_type": "code",
      "source": [
        "#tuple length\n",
        "\n",
        "thistuple=(\"apple\", \"banana\", \"cherry\")\n",
        "print(len(thistuple))"
      ],
      "metadata": {
        "colab": {
          "base_uri": "https://localhost:8080/"
        },
        "outputId": "ae30d715-b94b-43ff-c9f3-c1b4960cfe98",
        "id": "kCMxuirRKH3Y"
      },
      "execution_count": null,
      "outputs": [
        {
          "output_type": "stream",
          "name": "stdout",
          "text": [
            "3\n"
          ]
        }
      ]
    },
    {
      "cell_type": "code",
      "source": [
        "#tuple\n",
        "ages=(4,10)\n",
        "print(list(ages))\n",
        "print(type(ages))"
      ],
      "metadata": {
        "colab": {
          "base_uri": "https://localhost:8080/"
        },
        "id": "wXmtcOb3LnoR",
        "outputId": "d4cee56e-47ad-483f-cf9a-41b891ca74d6"
      },
      "execution_count": null,
      "outputs": [
        {
          "output_type": "stream",
          "name": "stdout",
          "text": [
            "[4, 10]\n",
            "<class 'tuple'>\n"
          ]
        }
      ]
    },
    {
      "cell_type": "code",
      "source": [
        "#range\n",
        "for x in range(5):\n",
        "  print(x)"
      ],
      "metadata": {
        "colab": {
          "base_uri": "https://localhost:8080/"
        },
        "id": "-2U77ub5gj6x",
        "outputId": "0482fd31-856c-4e21-f205-7f9524d2c8ad"
      },
      "execution_count": 1,
      "outputs": [
        {
          "output_type": "stream",
          "name": "stdout",
          "text": [
            "0\n",
            "1\n",
            "2\n",
            "3\n",
            "4\n"
          ]
        }
      ]
    },
    {
      "cell_type": "code",
      "source": [
        "for a in range(2,7):\n",
        "  print(a)"
      ],
      "metadata": {
        "colab": {
          "base_uri": "https://localhost:8080/"
        },
        "id": "n8BaPBX_hPGZ",
        "outputId": "49b84ddf-2874-432c-a727-c13db76b3a65"
      },
      "execution_count": 3,
      "outputs": [
        {
          "output_type": "stream",
          "name": "stdout",
          "text": [
            "2\n",
            "3\n",
            "4\n",
            "5\n",
            "6\n"
          ]
        }
      ]
    },
    {
      "cell_type": "code",
      "source": [
        "ages=range(6)\n",
        "print(list(ages))\n",
        "print(type(ages))"
      ],
      "metadata": {
        "colab": {
          "base_uri": "https://localhost:8080/"
        },
        "id": "CN_vFs1Yj1JI",
        "outputId": "bc65913c-cd71-4f0d-82f3-6f226518593a"
      },
      "execution_count": 4,
      "outputs": [
        {
          "output_type": "stream",
          "name": "stdout",
          "text": [
            "[0, 1, 2, 3, 4, 5]\n",
            "<class 'range'>\n"
          ]
        }
      ]
    },
    {
      "cell_type": "code",
      "source": [
        "ages=range(1,10,2)\n",
        "print(list(ages))\n",
        "print(type(ages))"
      ],
      "metadata": {
        "colab": {
          "base_uri": "https://localhost:8080/"
        },
        "id": "R211lYpPktnq",
        "outputId": "8ac0c7e6-7017-4584-dd83-cbabef4c5c9e"
      },
      "execution_count": 6,
      "outputs": [
        {
          "output_type": "stream",
          "name": "stdout",
          "text": [
            "[1, 3, 5, 7, 9]\n",
            "<class 'range'>\n"
          ]
        }
      ]
    },
    {
      "cell_type": "code",
      "source": [
        "number=list(range(10))\n",
        "print(number)\n"
      ],
      "metadata": {
        "colab": {
          "base_uri": "https://localhost:8080/"
        },
        "id": "a-ISS23YkWWL",
        "outputId": "f13276e4-7830-4bd8-b28b-86fd06490bc2"
      },
      "execution_count": 5,
      "outputs": [
        {
          "output_type": "stream",
          "name": "stdout",
          "text": [
            "[0, 1, 2, 3, 4, 5, 6, 7, 8, 9]\n"
          ]
        }
      ]
    },
    {
      "cell_type": "code",
      "source": [
        "for i in range(1, 10, 2):\n",
        "    print(i)"
      ],
      "metadata": {
        "colab": {
          "base_uri": "https://localhost:8080/"
        },
        "id": "02i9LFPplAC7",
        "outputId": "c6668011-4428-4a78-d564-2b78a753909f"
      },
      "execution_count": 7,
      "outputs": [
        {
          "output_type": "stream",
          "name": "stdout",
          "text": [
            "1\n",
            "3\n",
            "5\n",
            "7\n",
            "9\n"
          ]
        }
      ]
    },
    {
      "cell_type": "code",
      "source": [
        "a = 33\n",
        "b = 200\n",
        "if b > a:\n",
        "   print(\"b is greater than a\")"
      ],
      "metadata": {
        "colab": {
          "base_uri": "https://localhost:8080/"
        },
        "id": "eGNgLHvxs-0_",
        "outputId": "ebd53d3c-1c3d-4968-a88c-26dcadffd88b"
      },
      "execution_count": 13,
      "outputs": [
        {
          "output_type": "stream",
          "name": "stdout",
          "text": [
            "b is greater than a\n"
          ]
        }
      ]
    },
    {
      "cell_type": "code",
      "source": [
        "a = 33\n",
        "b = 33\n",
        "if b > a:\n",
        "   print(\"b is greater than a\")\n",
        "elif a == b:\n",
        "   print(\"a and b are equal\")"
      ],
      "metadata": {
        "colab": {
          "base_uri": "https://localhost:8080/"
        },
        "id": "OTBFZA7KtYg1",
        "outputId": "397b417f-f3a3-4566-8440-d61a35f19a18"
      },
      "execution_count": 15,
      "outputs": [
        {
          "output_type": "stream",
          "name": "stdout",
          "text": [
            "a and b are equal\n"
          ]
        }
      ]
    },
    {
      "cell_type": "code",
      "source": [
        "a = 200\n",
        "b = 33\n",
        "if b > a:\n",
        "   print(\"b is greater than a\")\n",
        "elif a == b:\n",
        "   print(\"a and b are equal\")\n",
        "else:\n",
        "   print(\"a is greater than b\")"
      ],
      "metadata": {
        "colab": {
          "base_uri": "https://localhost:8080/"
        },
        "id": "AfAUzgFtt03x",
        "outputId": "9a3a6447-7fc2-451f-d835-596bebee3348"
      },
      "execution_count": 17,
      "outputs": [
        {
          "output_type": "stream",
          "name": "stdout",
          "text": [
            "a is greater than b\n"
          ]
        }
      ]
    },
    {
      "cell_type": "code",
      "source": [
        "x = 10\n",
        "\n",
        "if x > 5:\n",
        "    print(\"x is greater than 5\")\n",
        "else:\n",
        "    print(\"x is not greater than 5\")"
      ],
      "metadata": {
        "colab": {
          "base_uri": "https://localhost:8080/"
        },
        "id": "I7URZe22qJ-I",
        "outputId": "43a30b4c-7da1-4811-a8ed-6a3c5b351b2b"
      },
      "execution_count": 20,
      "outputs": [
        {
          "output_type": "stream",
          "name": "stdout",
          "text": [
            "x is greater than 5\n"
          ]
        }
      ]
    },
    {
      "cell_type": "code",
      "source": [
        "x=3\n",
        "if x > 5:\n",
        "   print(\"x is greater than 5\")\n",
        "elif x == 5:\n",
        "   print(\"x is equal to 5\")\n",
        "else:\n",
        "   print(\"x is less than 5\")"
      ],
      "metadata": {
        "colab": {
          "base_uri": "https://localhost:8080/"
        },
        "id": "B99RQ3TPrBbr",
        "outputId": "61be2b1c-e182-4057-e8fd-c5e49bab46e7"
      },
      "execution_count": 11,
      "outputs": [
        {
          "output_type": "stream",
          "name": "stdout",
          "text": [
            "x is less than 5\n"
          ]
        }
      ]
    },
    {
      "cell_type": "code",
      "source": [
        "#while\n",
        "# code block to be executed\n"
      ],
      "metadata": {
        "id": "GEvGoxlCvtmp"
      },
      "execution_count": 22,
      "outputs": []
    },
    {
      "cell_type": "code",
      "source": [
        "count = 0\n",
        "while count < 5:\n",
        "   print(\"Count is:\", count)\n",
        "   count += 1"
      ],
      "metadata": {
        "colab": {
          "base_uri": "https://localhost:8080/"
        },
        "id": "old0SYjowBlA",
        "outputId": "b53fcf04-5b76-42a2-8ffb-c49416854702"
      },
      "execution_count": 26,
      "outputs": [
        {
          "output_type": "stream",
          "name": "stdout",
          "text": [
            "Count is: 0\n",
            "Count is: 1\n",
            "Count is: 2\n",
            "Count is: 3\n",
            "Count is: 4\n"
          ]
        }
      ]
    },
    {
      "cell_type": "code",
      "source": [
        "i = 1\n",
        "while i < 6:\n",
        "   print(i)\n",
        "   i +=1"
      ],
      "metadata": {
        "colab": {
          "base_uri": "https://localhost:8080/"
        },
        "id": "t53tanXjw8qN",
        "outputId": "39a17562-aba3-4dff-e40d-440ad0d3aa13"
      },
      "execution_count": 28,
      "outputs": [
        {
          "output_type": "stream",
          "name": "stdout",
          "text": [
            "1\n",
            "2\n",
            "3\n",
            "4\n",
            "5\n"
          ]
        }
      ]
    },
    {
      "cell_type": "code",
      "source": [
        "#while\n",
        "#break statement\n",
        "\n",
        "i = 1\n",
        "while i < 6:\n",
        "  print(i)\n",
        "  if i == 3:\n",
        "   break\n",
        "  i += 1"
      ],
      "metadata": {
        "colab": {
          "base_uri": "https://localhost:8080/"
        },
        "id": "db6ggxIZxhnJ",
        "outputId": "4bdaee4c-988c-4b17-9c84-2b12f98459da"
      },
      "execution_count": 41,
      "outputs": [
        {
          "output_type": "stream",
          "name": "stdout",
          "text": [
            "1\n",
            "2\n",
            "3\n"
          ]
        }
      ]
    },
    {
      "cell_type": "code",
      "source": [
        "#while\n",
        "#continue statement\n",
        "\n",
        "i = 0\n",
        "while i < 6:\n",
        "  i += 1\n",
        "  if i == 3:\n",
        "    continue\n",
        "  print(i)\n",
        "\n",
        "\n",
        ""
      ],
      "metadata": {
        "colab": {
          "base_uri": "https://localhost:8080/"
        },
        "id": "sG11s17PzNrU",
        "outputId": "c834cd7c-a6eb-43e6-d748-1af6e77c996e"
      },
      "execution_count": 42,
      "outputs": [
        {
          "output_type": "stream",
          "name": "stdout",
          "text": [
            "1\n",
            "2\n",
            "4\n",
            "5\n",
            "6\n"
          ]
        }
      ]
    },
    {
      "cell_type": "code",
      "source": [
        "#for loop\n",
        "\n",
        "fruits = [\"apple\",\"banana\",\"cherry\"]\n",
        "for fruit in fruits:\n",
        "   print(fruit)"
      ],
      "metadata": {
        "colab": {
          "base_uri": "https://localhost:8080/"
        },
        "id": "JfAK2JX60iHc",
        "outputId": "f14cc85d-72df-4754-fd95-0de74e469dd2"
      },
      "execution_count": 47,
      "outputs": [
        {
          "output_type": "stream",
          "name": "stdout",
          "text": [
            "apple\n",
            "banana\n",
            "cherry\n"
          ]
        }
      ]
    },
    {
      "cell_type": "code",
      "source": [
        "# using string in a For loop\n",
        "\n",
        "for x in \"python\":\n",
        "   print(x)"
      ],
      "metadata": {
        "colab": {
          "base_uri": "https://localhost:8080/"
        },
        "id": "54niMs851WzP",
        "outputId": "6afce6bd-8d3b-4e17-893a-9b43ffdfcf0c"
      },
      "execution_count": 51,
      "outputs": [
        {
          "output_type": "stream",
          "name": "stdout",
          "text": [
            "p\n",
            "y\n",
            "t\n",
            "h\n",
            "o\n",
            "n\n"
          ]
        }
      ]
    },
    {
      "cell_type": "code",
      "source": [
        "# Using range() in a For Loop\n",
        "\n",
        "for x in range(5):\n",
        "   print(x)"
      ],
      "metadata": {
        "colab": {
          "base_uri": "https://localhost:8080/"
        },
        "id": "_lR-eMxh1pCM",
        "outputId": "433712a7-fc57-44c6-fe34-2248d805b35f"
      },
      "execution_count": 52,
      "outputs": [
        {
          "output_type": "stream",
          "name": "stdout",
          "text": [
            "0\n",
            "1\n",
            "2\n",
            "3\n",
            "4\n"
          ]
        }
      ]
    },
    {
      "cell_type": "code",
      "source": [
        "# function\n",
        "\n",
        "def greet(name):\n",
        "   print(f\"Hello,{name}!\" )"
      ],
      "metadata": {
        "id": "MBeyvai82mDd"
      },
      "execution_count": 55,
      "outputs": []
    },
    {
      "cell_type": "code",
      "source": [
        "#Call the function\n",
        "greet(\"Alice\")"
      ],
      "metadata": {
        "colab": {
          "base_uri": "https://localhost:8080/"
        },
        "id": "6dDczIjQ23NT",
        "outputId": "cbd18f55-1a63-4ad0-a6a3-536c31e0201a"
      },
      "execution_count": 54,
      "outputs": [
        {
          "output_type": "stream",
          "name": "stdout",
          "text": [
            "Hello,Alice!\n"
          ]
        }
      ]
    },
    {
      "cell_type": "code",
      "source": [
        "def add(a,b):\n",
        "   return a + b"
      ],
      "metadata": {
        "id": "eGT9iIx63Jy4"
      },
      "execution_count": 57,
      "outputs": []
    },
    {
      "cell_type": "code",
      "source": [
        "#Call the function and store the result\n",
        "result = add(5,3)\n",
        "print(result)"
      ],
      "metadata": {
        "colab": {
          "base_uri": "https://localhost:8080/"
        },
        "id": "Z6dSDRfA3UpI",
        "outputId": "856cf94b-35ae-4494-d304-42a0bdfefbd7"
      },
      "execution_count": 58,
      "outputs": [
        {
          "output_type": "stream",
          "name": "stdout",
          "text": [
            "8\n"
          ]
        }
      ]
    },
    {
      "cell_type": "code",
      "source": [
        "def my_function():\n",
        "   print(\"Hello from a function\")"
      ],
      "metadata": {
        "id": "m2ghpRLi3xiv"
      },
      "execution_count": 60,
      "outputs": []
    },
    {
      "cell_type": "code",
      "source": [
        "#Call the function\n",
        "my_function()"
      ],
      "metadata": {
        "colab": {
          "base_uri": "https://localhost:8080/"
        },
        "id": "n2H6I3rz4EjX",
        "outputId": "db376e08-1f23-4f16-8ac6-9687f489e289"
      },
      "execution_count": 61,
      "outputs": [
        {
          "output_type": "stream",
          "name": "stdout",
          "text": [
            "Hello from a function\n"
          ]
        }
      ]
    }
  ],
  "metadata": {
    "colab": {
      "provenance": []
    },
    "kernelspec": {
      "display_name": "Python 3",
      "name": "python3"
    },
    "language_info": {
      "name": "python"
    }
  },
  "nbformat": 4,
  "nbformat_minor": 0
}